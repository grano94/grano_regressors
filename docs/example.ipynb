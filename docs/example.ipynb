{
    "cells": [
        {
            "cell_type": "markdown",
            "metadata": {},
            "source": [
                "# Example usage\n",
                "\n",
                "To use `regressors_grano` in a project:"
            ]
        },
        {
            "cell_type": "code",
            "execution_count": null,
            "metadata": {},
            "outputs": [],
            "source": [
                "from sklearn.datasets import load_diabetes\n",
                "import numpy as np\n",
                "import os\n",
                "from regressors_grano import OrdinaryLeastSquaresRegressor\n",
                "from regressors_grano import GradBoostRegressor\n",
                "from regressors_grano import RidgeRegressionRegressor\n",
                "from regressors_grano import KNeigRegressor\n",
                "from regressors_grano import LassoRegressor\n",
                "from regressors_grano import EnsembleRegressor"
            ]
        },
        {
            "cell_type": "code",
            "execution_count": null,
            "metadata": {},
            "outputs": [
                {
                    "data": {
                        "text/plain": [
                            "'c:\\\\Users\\\\grano\\\\Nextcloud\\\\FH Kufstein\\\\02_Studienunterlagen\\\\Semester_2_SS_2024\\\\Softwareentwicklung 2\\\\project\\\\softwareentwicklung-2-projekt\\\\multi_model_ensemble_regressor'"
                        ]
                    },
                    "metadata": {},
                    "output_type": "display_data"
                }
            ],
            "source": [
                "# show working directory\n",
                "os.getcwd()"
            ]
        },
        {
            "cell_type": "code",
            "execution_count": null,
            "metadata": {},
            "outputs": [],
            "source": [
                "# load data\n",
                "data = load_diabetes() # mean centered and scaled by the standard deviation times the square root of n_samples"
            ]
        },
        {
            "cell_type": "markdown",
            "metadata": {},
            "source": [
                "## Data exploration"
            ]
        },
        {
            "cell_type": "code",
            "execution_count": null,
            "metadata": {},
            "outputs": [
                {
                    "data": {
                        "text/plain": [
                            "(442, 10)"
                        ]
                    },
                    "metadata": {},
                    "output_type": "display_data"
                }
            ],
            "source": [
                "# show feature matrix data shape\n",
                "data.data.shape     "
            ]
        },
        {
            "cell_type": "code",
            "execution_count": null,
            "metadata": {},
            "outputs": [
                {
                    "data": {
                        "text/plain": [
                            "(442,)"
                        ]
                    },
                    "metadata": {},
                    "output_type": "display_data"
                }
            ],
            "source": [
                "# show target data shape\n",
                "data.target.shape"
            ]
        },
        {
            "cell_type": "code",
            "execution_count": null,
            "metadata": {},
            "outputs": [],
            "source": [
                "# load feature matrix and target data\n",
                "X = data.data\n",
                "y = data.target"
            ]
        },
        {
            "cell_type": "code",
            "execution_count": null,
            "metadata": {},
            "outputs": [
                {
                    "name": "stdout",
                    "output_type": "stream",
                    "text": [
                        "[[ 0.03807591  0.05068012  0.06169621 ... -0.00259226  0.01990749\n",
                        "  -0.01764613]\n",
                        " [-0.00188202 -0.04464164 -0.05147406 ... -0.03949338 -0.06833155\n",
                        "  -0.09220405]\n",
                        " [ 0.08529891  0.05068012  0.04445121 ... -0.00259226  0.00286131\n",
                        "  -0.02593034]\n",
                        " ...\n",
                        " [ 0.04170844  0.05068012 -0.01590626 ... -0.01107952 -0.04688253\n",
                        "   0.01549073]\n",
                        " [-0.04547248 -0.04464164  0.03906215 ...  0.02655962  0.04452873\n",
                        "  -0.02593034]\n",
                        " [-0.04547248 -0.04464164 -0.0730303  ... -0.03949338 -0.00422151\n",
                        "   0.00306441]]\n"
                    ]
                }
            ],
            "source": [
                "# print feature matrix\n",
                "print(X)"
            ]
        },
        {
            "cell_type": "code",
            "execution_count": null,
            "metadata": {},
            "outputs": [
                {
                    "data": {
                        "text/plain": [
                            "numpy.ndarray"
                        ]
                    },
                    "metadata": {},
                    "output_type": "display_data"
                }
            ],
            "source": [
                "# show data type of feature matrix\n",
                "type(X)"
            ]
        },
        {
            "cell_type": "code",
            "execution_count": null,
            "metadata": {},
            "outputs": [
                {
                    "data": {
                        "text/plain": [
                            "numpy.ndarray"
                        ]
                    },
                    "metadata": {},
                    "output_type": "display_data"
                }
            ],
            "source": [
                "# show data type of target data\n",
                "type(y)"
            ]
        },
        {
            "cell_type": "markdown",
            "metadata": {},
            "source": [
                "## Inspect single regressor classes"
            ]
        },
        {
            "cell_type": "code",
            "execution_count": null,
            "metadata": {},
            "outputs": [
                {
                    "name": "stdout",
                    "output_type": "stream",
                    "text": [
                        "Regression model trained.\n",
                        "The r2-score is: 0.5177484222203498\n"
                    ]
                },
                {
                    "data": {
                        "text/plain": [
                            "0.5177484222203498"
                        ]
                    },
                    "metadata": {},
                    "output_type": "display_data"
                }
            ],
            "source": [
                "ls = OrdinaryLeastSquaresRegressor()\n",
                "ls.fit(X, y)\n",
                "ls.score(X, y)"
            ]
        },
        {
            "cell_type": "code",
            "execution_count": null,
            "metadata": {},
            "outputs": [
                {
                    "name": "stdout",
                    "output_type": "stream",
                    "text": [
                        "Regression model trained.\n",
                        "The r2-score is: 0.7990392018966864\n"
                    ]
                },
                {
                    "data": {
                        "text/plain": [
                            "0.7990392018966864"
                        ]
                    },
                    "metadata": {},
                    "output_type": "display_data"
                }
            ],
            "source": [
                "gb = GradBoostRegressor()\n",
                "gb.fit(X, y)\n",
                "gb.score(X, y)"
            ]
        },
        {
            "cell_type": "code",
            "execution_count": null,
            "metadata": {},
            "outputs": [
                {
                    "name": "stdout",
                    "output_type": "stream",
                    "text": [
                        "Regression model trained.\n",
                        "The r2-score is: 0.45123062774361744\n"
                    ]
                },
                {
                    "data": {
                        "text/plain": [
                            "0.45123062774361744"
                        ]
                    },
                    "metadata": {},
                    "output_type": "display_data"
                }
            ],
            "source": [
                "rr = RidgeRegressionRegressor()\n",
                "rr.fit(X, y)\n",
                "rr.score(X, y)"
            ]
        },
        {
            "cell_type": "code",
            "execution_count": null,
            "metadata": {},
            "outputs": [
                {
                    "name": "stdout",
                    "output_type": "stream",
                    "text": [
                        "Regression model trained.\n",
                        "The r2-score is: 0.604957605699507\n"
                    ]
                },
                {
                    "data": {
                        "text/plain": [
                            "0.604957605699507"
                        ]
                    },
                    "metadata": {},
                    "output_type": "display_data"
                }
            ],
            "source": [
                "kn = KNeigRegressor()\n",
                "kn.fit(X, y)\n",
                "kn.score(X, y)"
            ]
        },
        {
            "cell_type": "code",
            "execution_count": null,
            "metadata": {},
            "outputs": [
                {
                    "name": "stdout",
                    "output_type": "stream",
                    "text": [
                        "Regression model trained.\n",
                        "The r2-score is: 0.3573787382316279\n"
                    ]
                },
                {
                    "data": {
                        "text/plain": [
                            "0.3573787382316279"
                        ]
                    },
                    "metadata": {},
                    "output_type": "display_data"
                }
            ],
            "source": [
                "kn = LassoRegressor()\n",
                "kn.fit(X, y)\n",
                "kn.score(X, y)"
            ]
        },
        {
            "cell_type": "markdown",
            "metadata": {},
            "source": [
                "## Ensemble regressor analysis"
            ]
        },
        {
            "cell_type": "markdown",
            "metadata": {},
            "source": [
                "### Preliminary analysis concerning functionality"
            ]
        },
        {
            "cell_type": "code",
            "execution_count": null,
            "metadata": {},
            "outputs": [
                {
                    "name": "stdout",
                    "output_type": "stream",
                    "text": [
                        "Gradient Boosting Regressor loaded.\n",
                        "KNeighbors Regressor loaded.\n",
                        "Lasso Regressor loaded.\n"
                    ]
                }
            ],
            "source": [
                "regre = EnsembleRegressor([\"gb\", \"kn\", \"la\"])"
            ]
        },
        {
            "cell_type": "code",
            "execution_count": null,
            "metadata": {},
            "outputs": [
                {
                    "name": "stdout",
                    "output_type": "stream",
                    "text": [
                        "The following regressors are included: Gradient Boosting Regressor, KNeighbors Regressor, Lasso Regressor\n"
                    ]
                }
            ],
            "source": [
                "print(regre)"
            ]
        },
        {
            "cell_type": "code",
            "execution_count": null,
            "metadata": {},
            "outputs": [],
            "source": [
                "del regre[1]"
            ]
        },
        {
            "cell_type": "code",
            "execution_count": null,
            "metadata": {},
            "outputs": [
                {
                    "name": "stdout",
                    "output_type": "stream",
                    "text": [
                        "Gradient Boosting Regressor replaced by Lasso Regressor.\n"
                    ]
                }
            ],
            "source": [
                "regressor = LassoRegressor()\n",
                "regre[0] = regressor"
            ]
        },
        {
            "cell_type": "code",
            "execution_count": null,
            "metadata": {},
            "outputs": [],
            "source": [
                "regressor = RidgeRegressionRegressor()"
            ]
        },
        {
            "cell_type": "code",
            "execution_count": null,
            "metadata": {},
            "outputs": [
                {
                    "name": "stdout",
                    "output_type": "stream",
                    "text": [
                        "The following regressors are included: Lasso Regressor, Lasso Regressor\n"
                    ]
                }
            ],
            "source": [
                "print(regre)"
            ]
        },
        {
            "cell_type": "code",
            "execution_count": null,
            "metadata": {},
            "outputs": [
                {
                    "name": "stdout",
                    "output_type": "stream",
                    "text": [
                        "Lasso Regressor returned.\n",
                        "Lasso Regressor\n"
                    ]
                }
            ],
            "source": [
                "text_regressor = regre[1]\n",
                "print(text_regressor.name)"
            ]
        },
        {
            "cell_type": "code",
            "execution_count": null,
            "metadata": {},
            "outputs": [
                {
                    "name": "stdout",
                    "output_type": "stream",
                    "text": [
                        "[1.  2.5]\n"
                    ]
                }
            ],
            "source": [
                "array_1 = np.array([1, 2])\n",
                "array_2 = np.array([1, 3])\n",
                "\n",
                "array_3 = np.column_stack((array_1, array_2))\n",
                "print(np.mean(array_3, axis=1))"
            ]
        },
        {
            "cell_type": "code",
            "execution_count": null,
            "metadata": {},
            "outputs": [
                {
                    "data": {
                        "text/plain": [
                            "numpy.ndarray"
                        ]
                    },
                    "metadata": {},
                    "output_type": "display_data"
                }
            ],
            "source": [
                "type(y) == type(array_3)\n",
                "type(y)"
            ]
        },
        {
            "cell_type": "code",
            "execution_count": null,
            "metadata": {},
            "outputs": [
                {
                    "name": "stdout",
                    "output_type": "stream",
                    "text": [
                        "Regression model predictions provided.\n"
                    ]
                },
                {
                    "data": {
                        "text/plain": [
                            "True"
                        ]
                    },
                    "metadata": {},
                    "output_type": "display_data"
                }
            ],
            "source": [
                "predictions = kn.predict(X)\n",
                "type(predictions) == type(array_3)"
            ]
        },
        {
            "cell_type": "markdown",
            "metadata": {},
            "source": [
                "### Main analysis concerning functionality"
            ]
        },
        {
            "cell_type": "code",
            "execution_count": null,
            "metadata": {},
            "outputs": [
                {
                    "name": "stdout",
                    "output_type": "stream",
                    "text": [
                        "KNeighbors Regressor loaded.\n",
                        "Lasso Regressor loaded.\n",
                        "Ordinary Least Squares Regressor loaded.\n"
                    ]
                }
            ],
            "source": [
                "# instantiate regressor (__getitem__)\n",
                "ensemble_regre = EnsembleRegressor([\"kn\", \"la\", \"ls\"])"
            ]
        },
        {
            "cell_type": "code",
            "execution_count": null,
            "metadata": {},
            "outputs": [
                {
                    "name": "stdout",
                    "output_type": "stream",
                    "text": [
                        "Lasso Regressor returned.\n"
                    ]
                }
            ],
            "source": [
                "# retrive regressor (__getitem__)\n",
                "kn_regressor = ensemble_regre[1]"
            ]
        },
        {
            "cell_type": "code",
            "execution_count": null,
            "metadata": {},
            "outputs": [
                {
                    "name": "stdout",
                    "output_type": "stream",
                    "text": [
                        "KNeighbors Regressor replaced by Ridge Regression Regressor.\n"
                    ]
                }
            ],
            "source": [
                "# change regressor (__setitem__)\n",
                "rr_regressor = RidgeRegressionRegressor()\n",
                "ensemble_regre[0] = rr_regressor"
            ]
        },
        {
            "cell_type": "code",
            "execution_count": null,
            "metadata": {},
            "outputs": [],
            "source": [
                "# delete regressor (__delitem__)\n",
                "del ensemble_regre[2]"
            ]
        },
        {
            "cell_type": "code",
            "execution_count": null,
            "metadata": {},
            "outputs": [
                {
                    "name": "stdout",
                    "output_type": "stream",
                    "text": [
                        "The following regressors are included: Ridge Regression Regressor, Lasso Regressor\n"
                    ]
                }
            ],
            "source": [
                "# print regressors (__str__)\n",
                "print(ensemble_regre)"
            ]
        },
        {
            "cell_type": "code",
            "execution_count": null,
            "metadata": {},
            "outputs": [
                {
                    "name": "stdout",
                    "output_type": "stream",
                    "text": [
                        "Training Ridge Regression Regressor:\n",
                        "Regression model trained.\n",
                        "Training Lasso Regressor:\n",
                        "Regression model trained.\n"
                    ]
                }
            ],
            "source": [
                "# fit all regressors (fit)\n",
                "ensemble_regre.fit(X, y)"
            ]
        },
        {
            "cell_type": "code",
            "execution_count": null,
            "metadata": {},
            "outputs": [
                {
                    "name": "stdout",
                    "output_type": "stream",
                    "text": [
                        "Ridge Regression Regressor returned.\n",
                        "Regression model predictions provided.\n",
                        "[182.67335421  90.99860656 166.11347597]\n",
                        "The r2-score is: 0.45123062774361744\n",
                        "Lasso Regressor returned.\n",
                        "Regression model predictions provided.\n",
                        "[181.08083908 112.0212857  169.32280394]\n"
                    ]
                }
            ],
            "source": [
                "# retrieve trained regressor and provide predictions\n",
                "rr_regresssor = ensemble_regre[0]\n",
                "print(rr_regressor.predict(X)[:3])\n",
                "rr_regressor.score(X, y)\n",
                "\n",
                "# retrieve trained regressor and provide predictions\n",
                "lasso_regresssor = ensemble_regre[1]\n",
                "print(lasso_regresssor.predict(X)[:3])"
            ]
        },
        {
            "cell_type": "code",
            "execution_count": null,
            "metadata": {},
            "outputs": [
                {
                    "name": "stdout",
                    "output_type": "stream",
                    "text": [
                        "Ridge Regression Regressor:\n",
                        "Regression model predictions provided.\n",
                        "Lasso Regressor:\n",
                        "Regression model predictions provided.\n"
                    ]
                },
                {
                    "data": {
                        "text/plain": [
                            "array([181.87709664, 101.50994613, 167.71813995])"
                        ]
                    },
                    "metadata": {},
                    "output_type": "display_data"
                }
            ],
            "source": [
                "# eval preds of ensemble regressor (predict)\n",
                "# retrive ensemble predictions representing the mean of single regressor preds\n",
                "ensemble_regre.predict(X)[:3]"
            ]
        },
        {
            "cell_type": "code",
            "execution_count": null,
            "metadata": {},
            "outputs": [
                {
                    "name": "stdout",
                    "output_type": "stream",
                    "text": [
                        "Training Ridge Regression Regressor:\n",
                        "Regression model trained.\n",
                        "Training Lasso Regressor:\n",
                        "Regression model trained.\n",
                        "Ridge Regression Regressor:\n",
                        "Regression model predictions provided.\n",
                        "Lasso Regressor:\n",
                        "Regression model predictions provided.\n"
                    ]
                },
                {
                    "data": {
                        "text/plain": [
                            "array([181.87709664, 101.50994613, 167.71813995])"
                        ]
                    },
                    "metadata": {},
                    "output_type": "display_data"
                }
            ],
            "source": [
                "# train and eval preds of ensemble regressor (fit_predict)\n",
                "ensemble_regre.fit_predict(X, y)[:3]"
            ]
        },
        {
            "cell_type": "code",
            "execution_count": null,
            "metadata": {},
            "outputs": [
                {
                    "name": "stdout",
                    "output_type": "stream",
                    "text": [
                        "Ridge Regression Regressor:\n",
                        "Regression model predictions provided.\n",
                        "Lasso Regressor:\n",
                        "Regression model predictions provided.\n",
                        "Ensemble regressor r2_score = 0.4149997876785507\n"
                    ]
                },
                {
                    "data": {
                        "text/plain": [
                            "0.4149997876785507"
                        ]
                    },
                    "metadata": {},
                    "output_type": "display_data"
                }
            ],
            "source": [
                "# eval score of ensemble regressor (score)\n",
                "ensemble_regre.score(X, y)"
            ]
        }
    ],
    "metadata": {
        "kernelspec": {
            "display_name": "Python 3",
            "language": "python",
            "name": "python3"
        },
        "language_info": {
            "codemirror_mode": {
                "name": "ipython",
                "version": 3
            },
            "file_extension": ".py",
            "mimetype": "text/x-python",
            "name": "python",
            "nbconvert_exporter": "python",
            "pygments_lexer": "ipython3",
            "version": "3.8.5"
        }
    },
    "nbformat": 4,
    "nbformat_minor": 4
}
